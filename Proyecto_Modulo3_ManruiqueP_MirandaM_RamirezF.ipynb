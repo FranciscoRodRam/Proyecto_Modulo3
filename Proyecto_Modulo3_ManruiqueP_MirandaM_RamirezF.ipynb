{
 "cells": [
  {
   "cell_type": "markdown",
   "metadata": {
    "collapsed": true
   },
   "source": [
    "# Proyecto 3 Simulación Montecarlo: Ruleta Europea\n",
    "\n",
    "<img style=\"float: right; margin: 0px 0px 15px 15px;\" src=\"https://www.cuentocolectivo.com/wp-content/uploads/2016/04/ruleta.jpg\" width=\"400px\" height=\"600px\" />\n",
    "\n",
    "Simulación Matemática.\n",
    "# <font color=\"PURPLE\">**INTEGRANTES:**</font>\n",
    "\n",
    "* <font color=\"red\">**INTEGRANTE 1 :**</font> Marcos Ortíz Tirado Miranda.\n",
    "* <font color=\"red\">**INTEGRANTE 2 :**</font> Paulina Milenka Glez Manrique.\n",
    "* <font color=\"red\">**INTEGRANTE 3 :**</font>  Francisco Ricardo Rodríguez Ramírez\n",
    "\n",
    "\n",
    "\n",
    "<font color=\"red\">**Repositorio remoto del integrante 1 :**</font> https://github.com/marcosotm/Proyecto_Modulo3"
   ]
  },
  {
   "cell_type": "markdown",
   "metadata": {},
   "source": [
    "#  <span style=\"color:blue\">**1.1 Descripción del trabajo **</span>"
   ]
  },
  {
   "cell_type": "markdown",
   "metadata": {},
   "source": [
    "\n",
    "El juego de la ruleta está compuesto por una rueda ubicada en una gran mesa en la cual se encuentra un cuadro de apuestas. Para poner a funcionar el juego se deben establecer las apuestas en un tiempo determinado y de forma seguida se pone en movimiento la ruleta y la bola que señala el número ganador.\n",
    "\n",
    "Además de los colores rojo y negro,  el juego también cuenta con el color verde el cual se presenta una o dos veces dependiendo del tipo de ruleta. En la europea se presenta solo una vez en la casilla del 0 y en la americana se presenta dos veces el color verde en las casillas del 0 y el 00.\n",
    "\n",
    "De esta forma se puede decir que la diferencia es que en la ruleta americana se tiene el 0 y el 00 y esto le da una ventaja a la casa de más de un 5 %. En el caso de la ruleta europea, al contar con un solo 0, esta solo da una ventaja de 2.70 %.\n",
    "\n",
    "\n",
    "#### La forma en la que se pagan las apuestas son las siguientes.\n",
    "\n",
    "\n",
    "\n"
   ]
  },
  {
   "cell_type": "code",
   "execution_count": 3,
   "metadata": {
    "collapsed": true
   },
   "outputs": [],
   "source": [
    "import pandas as pd"
   ]
  },
  {
   "cell_type": "code",
   "execution_count": 9,
   "metadata": {},
   "outputs": [
    {
     "data": {
      "text/html": [
       "<div>\n",
       "<style>\n",
       "    .dataframe thead tr:only-child th {\n",
       "        text-align: right;\n",
       "    }\n",
       "\n",
       "    .dataframe thead th {\n",
       "        text-align: left;\n",
       "    }\n",
       "\n",
       "    .dataframe tbody tr th {\n",
       "        vertical-align: top;\n",
       "    }\n",
       "</style>\n",
       "<table border=\"1\" class=\"dataframe\">\n",
       "  <thead>\n",
       "    <tr style=\"text-align: right;\">\n",
       "      <th></th>\n",
       "      <th>Apuesta</th>\n",
       "      <th>Se juega</th>\n",
       "      <th>Premio</th>\n",
       "    </tr>\n",
       "  </thead>\n",
       "  <tbody>\n",
       "    <tr>\n",
       "      <th>Rojo/Negro</th>\n",
       "      <td>1</td>\n",
       "      <td>Se está jugando a 18 números</td>\n",
       "      <td>1</td>\n",
       "    </tr>\n",
       "    <tr>\n",
       "      <th>Par/Impar</th>\n",
       "      <td>1</td>\n",
       "      <td>Se está jugando a 18 números</td>\n",
       "      <td>1</td>\n",
       "    </tr>\n",
       "    <tr>\n",
       "      <th>Verde</th>\n",
       "      <td>NaN</td>\n",
       "      <td>NaN</td>\n",
       "      <td>NaN</td>\n",
       "    </tr>\n",
       "    <tr>\n",
       "      <th>Bebida3</th>\n",
       "      <td>100</td>\n",
       "      <td>0</td>\n",
       "      <td>0</td>\n",
       "    </tr>\n",
       "    <tr>\n",
       "      <th>Bebida4</th>\n",
       "      <td>0</td>\n",
       "      <td>100</td>\n",
       "      <td>0</td>\n",
       "    </tr>\n",
       "    <tr>\n",
       "      <th>Bebida5</th>\n",
       "      <td>0</td>\n",
       "      <td>0</td>\n",
       "      <td>0</td>\n",
       "    </tr>\n",
       "  </tbody>\n",
       "</table>\n",
       "</div>"
      ],
      "text/plain": [
       "           Apuesta                       Se juega Premio\n",
       "Rojo/Negro       1   Se está jugando a 18 números      1\n",
       "Par/Impar        1   Se está jugando a 18 números      1\n",
       "Verde          NaN                            NaN    NaN\n",
       "Bebida3        100                              0      0\n",
       "Bebida4          0                            100      0\n",
       "Bebida5          0                              0      0"
      ]
     },
     "execution_count": 9,
     "metadata": {},
     "output_type": "execute_result"
    }
   ],
   "source": [
    "df = pd.DataFrame(columns=['Apuesta', 'Se juega', 'Premio'], index = ['Rojo/Negro', 'Par/Impar', 'Verde'])\n",
    "df.loc['Rojo/Negro', :] = [1, \" Se está jugando a 18 números\", 1]\n",
    "df.loc[ \"Par/Impar\", :] = [1, \" Se está jugando a 18 números\", 1]\n",
    "df.loc['Bebida3', :] = [100, 0, 0]\n",
    "df.loc['Bebida4', :] = [0, 100, 0]\n",
    "df.loc['Bebida5', :] = [0, 0, 0]\n",
    "df"
   ]
  },
  {
   "cell_type": "code",
   "execution_count": null,
   "metadata": {
    "collapsed": true
   },
   "outputs": [],
   "source": []
  },
  {
   "cell_type": "code",
   "execution_count": null,
   "metadata": {
    "collapsed": true
   },
   "outputs": [],
   "source": []
  },
  {
   "cell_type": "markdown",
   "metadata": {},
   "source": [
    "#  <span style=\"color:blue\">**1.2 Objetivos**</span>"
   ]
  },
  {
   "cell_type": "code",
   "execution_count": null,
   "metadata": {
    "collapsed": true
   },
   "outputs": [],
   "source": []
  },
  {
   "cell_type": "code",
   "execution_count": null,
   "metadata": {
    "collapsed": true
   },
   "outputs": [],
   "source": []
  },
  {
   "cell_type": "code",
   "execution_count": null,
   "metadata": {
    "collapsed": true
   },
   "outputs": [],
   "source": []
  },
  {
   "cell_type": "code",
   "execution_count": null,
   "metadata": {
    "collapsed": true
   },
   "outputs": [],
   "source": []
  },
  {
   "cell_type": "markdown",
   "metadata": {},
   "source": [
    "#  <span style=\"color:blue\">**1.3 Simulaciones**</span>"
   ]
  },
  {
   "cell_type": "code",
   "execution_count": null,
   "metadata": {
    "collapsed": true
   },
   "outputs": [],
   "source": []
  },
  {
   "cell_type": "code",
   "execution_count": null,
   "metadata": {
    "collapsed": true
   },
   "outputs": [],
   "source": []
  },
  {
   "cell_type": "markdown",
   "metadata": {},
   "source": [
    "#  <span style=\"color:blue\">**1.4 Conclusiones**</span>"
   ]
  },
  {
   "cell_type": "code",
   "execution_count": null,
   "metadata": {
    "collapsed": true
   },
   "outputs": [],
   "source": []
  },
  {
   "cell_type": "code",
   "execution_count": null,
   "metadata": {
    "collapsed": true
   },
   "outputs": [],
   "source": []
  },
  {
   "cell_type": "markdown",
   "metadata": {},
   "source": [
    "#  <span style=\"color:blue\">**1.5 Bibliografía**</span>"
   ]
  },
  {
   "cell_type": "code",
   "execution_count": null,
   "metadata": {
    "collapsed": true
   },
   "outputs": [],
   "source": []
  },
  {
   "cell_type": "code",
   "execution_count": null,
   "metadata": {
    "collapsed": true
   },
   "outputs": [],
   "source": []
  },
  {
   "cell_type": "code",
   "execution_count": null,
   "metadata": {
    "collapsed": true
   },
   "outputs": [],
   "source": []
  }
 ],
 "metadata": {
  "kernelspec": {
   "display_name": "Python 3",
   "language": "python",
   "name": "python3"
  },
  "language_info": {
   "codemirror_mode": {
    "name": "ipython",
    "version": 3
   },
   "file_extension": ".py",
   "mimetype": "text/x-python",
   "name": "python",
   "nbconvert_exporter": "python",
   "pygments_lexer": "ipython3",
   "version": "3.6.3"
  }
 },
 "nbformat": 4,
 "nbformat_minor": 2
}
